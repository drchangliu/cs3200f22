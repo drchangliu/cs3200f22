{
 "cells": [
  {
   "cell_type": "markdown",
   "id": "eca3b269",
   "metadata": {},
   "source": [
    "### Lists and functions are the most fundamental concepts for functional languages.\n",
    "### Did you know that Lisp stands for List Processor?"
   ]
  },
  {
   "cell_type": "code",
   "execution_count": 2,
   "id": "7252986e",
   "metadata": {},
   "outputs": [
    {
     "data": {
      "text/plain": [
       "val len : 'a list -> int = <fun>\n"
      ]
     },
     "execution_count": 2,
     "metadata": {},
     "output_type": "execute_result"
    }
   ],
   "source": [
    "let rec len (list): int =\n",
    "  match list with\n",
    "  | [] -> 0\n",
    "  | [_] -> 1\n",
    "  | _ :: list' -> 1 + (len list')"
   ]
  },
  {
   "cell_type": "code",
   "execution_count": 40,
   "id": "da175383",
   "metadata": {},
   "outputs": [
    {
     "ename": "error",
     "evalue": "compile_error",
     "output_type": "error",
     "traceback": [
      "File \"[40]\", line 5, characters 23-29:\n5 |   | _ :: list' -> 1 + (length list')\n                           ^^^^^^\nError: Unbound value length\nHint: If this is a recursive definition,\nyou should add the 'rec' keyword on line 1\n"
     ]
    }
   ],
   "source": [
    "let length (list): int =\n",
    "  match list with\n",
    "  | [] -> 0\n",
    "  | [_] -> 1\n",
    "  | _ :: list' -> 1 + (length list')"
   ]
  },
  {
   "cell_type": "code",
   "execution_count": 3,
   "id": "ab765c22",
   "metadata": {},
   "outputs": [
    {
     "data": {
      "text/plain": [
       "- : int = 3\n"
      ]
     },
     "execution_count": 3,
     "metadata": {},
     "output_type": "execute_result"
    }
   ],
   "source": [
    "len([1; 2 ;3])"
   ]
  },
  {
   "cell_type": "code",
   "execution_count": 7,
   "id": "e7800b10",
   "metadata": {},
   "outputs": [
    {
     "data": {
      "text/plain": [
       "- : int = 4\n"
      ]
     },
     "execution_count": 7,
     "metadata": {},
     "output_type": "execute_result"
    }
   ],
   "source": [
    "len[(1,2); (2,3); (4,5); (1,3)]"
   ]
  },
  {
   "cell_type": "code",
   "execution_count": 8,
   "id": "c6c43f9f",
   "metadata": {},
   "outputs": [
    {
     "data": {
      "text/plain": [
       "- : int = 0\n"
      ]
     },
     "execution_count": 8,
     "metadata": {},
     "output_type": "execute_result"
    }
   ],
   "source": [
    "len([])"
   ]
  },
  {
   "cell_type": "code",
   "execution_count": 10,
   "id": "4289a5af",
   "metadata": {},
   "outputs": [
    {
     "data": {
      "text/plain": [
       "- : int = 2\n"
      ]
     },
     "execution_count": 10,
     "metadata": {},
     "output_type": "execute_result"
    }
   ],
   "source": [
    "len(2::[3])"
   ]
  },
  {
   "cell_type": "markdown",
   "id": "c3636246",
   "metadata": {},
   "source": [
    "### Duplicate every element in the list"
   ]
  },
  {
   "cell_type": "code",
   "execution_count": 15,
   "id": "4c873935",
   "metadata": {},
   "outputs": [
    {
     "data": {
      "text/plain": [
       "val double : 'a list -> 'a list = <fun>\n"
      ]
     },
     "execution_count": 15,
     "metadata": {},
     "output_type": "execute_result"
    }
   ],
   "source": [
    "let rec double (list) =\n",
    "  match list with\n",
    "  | [] -> []\n",
    "  | [x] -> [x; x]\n",
    "  | x :: list' ->  x :: x :: double list'"
   ]
  },
  {
   "cell_type": "code",
   "execution_count": 16,
   "id": "9aacea73",
   "metadata": {},
   "outputs": [
    {
     "data": {
      "text/plain": [
       "- : int list = [1; 1; 2; 2; 3; 3]\n"
      ]
     },
     "execution_count": 16,
     "metadata": {},
     "output_type": "execute_result"
    }
   ],
   "source": [
    "double([1; 2; 3])"
   ]
  },
  {
   "cell_type": "markdown",
   "id": "281305fd",
   "metadata": {},
   "source": [
    "### Take a number, create a list of that size"
   ]
  },
  {
   "cell_type": "code",
   "execution_count": 18,
   "id": "1d5e447c",
   "metadata": {},
   "outputs": [
    {
     "data": {
      "text/plain": [
       "val listgen : int -> int list = <fun>\n"
      ]
     },
     "execution_count": 18,
     "metadata": {},
     "output_type": "execute_result"
    }
   ],
   "source": [
    "let rec listgen (n: int) =\n",
    "    if n = 0 then [] else n :: listgen (n-1)"
   ]
  },
  {
   "cell_type": "code",
   "execution_count": 19,
   "id": "38db7181",
   "metadata": {},
   "outputs": [
    {
     "data": {
      "text/plain": [
       "- : int list = [1]\n"
      ]
     },
     "execution_count": 19,
     "metadata": {},
     "output_type": "execute_result"
    }
   ],
   "source": [
    "listgen 1"
   ]
  },
  {
   "cell_type": "code",
   "execution_count": 20,
   "id": "eb2fc62f",
   "metadata": {},
   "outputs": [
    {
     "data": {
      "text/plain": [
       "- : int list = [10; 9; 8; 7; 6; 5; 4; 3; 2; 1]\n"
      ]
     },
     "execution_count": 20,
     "metadata": {},
     "output_type": "execute_result"
    }
   ],
   "source": [
    "listgen 10"
   ]
  },
  {
   "cell_type": "markdown",
   "id": "c5345ee7",
   "metadata": {},
   "source": [
    "## CodeWars: Powers of 2: \n",
    "https://www.codewars.com/kata/57a083a57cb1f31db7000028/ocaml"
   ]
  },
  {
   "cell_type": "code",
   "execution_count": 36,
   "id": "91b5e50b",
   "metadata": {},
   "outputs": [
    {
     "data": {
      "text/plain": [
       "val powersOfTwo : int -> int list = <fun>\n"
      ]
     },
     "execution_count": 36,
     "metadata": {},
     "output_type": "execute_result"
    }
   ],
   "source": [
    "open Float\n",
    "\n",
    "let rec powersOfTwo n = \n",
    "  if n = 0 then [1]\n",
    "  else\n",
    "     (powersOfTwo (n-1))  @ [to_int(2.** (of_int n)) ]"
   ]
  },
  {
   "cell_type": "code",
   "execution_count": 37,
   "id": "e0338698",
   "metadata": {},
   "outputs": [
    {
     "data": {
      "text/plain": [
       "- : int list = [1; 2; 4]\n"
      ]
     },
     "execution_count": 37,
     "metadata": {},
     "output_type": "execute_result"
    }
   ],
   "source": [
    "powersOfTwo(2)"
   ]
  },
  {
   "cell_type": "code",
   "execution_count": 38,
   "id": "93e31769",
   "metadata": {},
   "outputs": [
    {
     "data": {
      "text/plain": [
       "- : int list = [1; 2; 4; 8; 16; 32; 64; 128; 256; 512; 1024]\n"
      ]
     },
     "execution_count": 38,
     "metadata": {},
     "output_type": "execute_result"
    }
   ],
   "source": [
    "powersOfTwo(10)"
   ]
  },
  {
   "cell_type": "code",
   "execution_count": 39,
   "id": "b1f90047",
   "metadata": {},
   "outputs": [
    {
     "data": {
      "text/plain": [
       "- : int list =\n",
       "[1; 2; 4; 8; 16; 32; 64; 128; 256; 512; 1024; 2048; 4096; 8192; 16384; 32768;\n",
       " 65536; 131072; 262144; 524288; 1048576]\n"
      ]
     },
     "execution_count": 39,
     "metadata": {},
     "output_type": "execute_result"
    }
   ],
   "source": [
    "powersOfTwo(20)"
   ]
  },
  {
   "cell_type": "code",
   "execution_count": null,
   "id": "c94dcb3f",
   "metadata": {},
   "outputs": [],
   "source": []
  }
 ],
 "metadata": {
  "kernelspec": {
   "display_name": "OCaml cs3200",
   "language": "OCaml",
   "name": "ocaml-jupyter-cs3200"
  },
  "language_info": {
   "codemirror_mode": "text/x-ocaml",
   "file_extension": ".ml",
   "mimetype": "text/x-ocaml",
   "name": "OCaml",
   "nbconverter_exporter": null,
   "pygments_lexer": "OCaml",
   "version": "4.14.0"
  }
 },
 "nbformat": 4,
 "nbformat_minor": 5
}
